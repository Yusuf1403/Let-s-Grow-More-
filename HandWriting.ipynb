{
  "nbformat": 4,
  "nbformat_minor": 0,
  "metadata": {
    "colab": {
      "name": "HandWriting.ipynb",
      "provenance": []
    },
    "kernelspec": {
      "name": "python3",
      "display_name": "Python 3"
    },
    "language_info": {
      "name": "python"
    }
  },
  "cells": [
    {
      "cell_type": "markdown",
      "metadata": {
        "id": "urvh2fSIXWO6"
      },
      "source": [
        "Name:-**Yusuf-Harun-Shaikh**\n",
        "\n",
        "\n",
        "\n",
        "**Develop A Neural Network That Can Read Your HandWriting**"
      ]
    },
    {
      "cell_type": "code",
      "metadata": {
        "id": "p1PYwHIRw_UN"
      },
      "source": [
        "import tensorflow\n",
        "import numpy as np\n",
        "import cv2\n",
        "import matplotlib.pyplot as plt\n",
        "from tensorflow.keras.models import Sequential\n",
        "from tensorflow.keras.layers import Dense,Dropout,Activation,Flatten,Conv2D,MaxPooling2D"
      ],
      "execution_count": 66,
      "outputs": []
    },
    {
      "cell_type": "code",
      "metadata": {
        "id": "ZYN7xzLPxkTC"
      },
      "source": [
        "mnist = tensorflow.keras.datasets.mnist"
      ],
      "execution_count": 67,
      "outputs": []
    },
    {
      "cell_type": "code",
      "metadata": {
        "id": "U8wF-zf8xtS5"
      },
      "source": [
        "(x_train, y_train), (x_test, y_test) = mnist.load_data()"
      ],
      "execution_count": 68,
      "outputs": []
    },
    {
      "cell_type": "code",
      "metadata": {
        "colab": {
          "base_uri": "https://localhost:8080/"
        },
        "id": "fShI9j9Xx6_6",
        "outputId": "3ba4b71a-2090-490d-bfe3-c1fa4145b272"
      },
      "source": [
        "x_train.shape"
      ],
      "execution_count": 69,
      "outputs": [
        {
          "output_type": "execute_result",
          "data": {
            "text/plain": [
              "(60000, 28, 28)"
            ]
          },
          "metadata": {},
          "execution_count": 69
        }
      ]
    },
    {
      "cell_type": "code",
      "metadata": {
        "colab": {
          "base_uri": "https://localhost:8080/",
          "height": 282
        },
        "id": "xUSwu9vtyAfx",
        "outputId": "27bf2c21-7e7f-4a80-c588-ff6186081291"
      },
      "source": [
        "plt.imshow(x_train[0])\n",
        "plt.show\n",
        "plt.imshow(x_train[0], cmap= plt.cm.binary)"
      ],
      "execution_count": 70,
      "outputs": [
        {
          "output_type": "execute_result",
          "data": {
            "text/plain": [
              "<matplotlib.image.AxesImage at 0x7fdc93ca8090>"
            ]
          },
          "metadata": {},
          "execution_count": 70
        },
        {
          "output_type": "display_data",
          "data": {
            "image/png": "[encoded data removed]",
            "text/plain": [
              "<Figure size 432x288 with 1 Axes>"
            ]
          },
          "metadata": {
            "needs_background": "light"
          }
        }
      ]
    },
    {
      "cell_type": "code",
      "metadata": {
        "colab": {
          "base_uri": "https://localhost:8080/",
          "height": 282
        },
        "id": "mnpS2BW7yTxj",
        "outputId": "ec19dec9-c90d-4b5a-b31d-841602cfcb04"
      },
      "source": [
        "x_train = tensorflow.keras.utils.normalize(x_train, axis=1)\n",
        "x_test = tensorflow.keras.utils.normalize(x_test, axis=1)\n",
        "plt.imshow(x_train[0], cmap = plt.cm.binary)"
      ],
      "execution_count": 71,
      "outputs": [
        {
          "output_type": "execute_result",
          "data": {
            "text/plain": [
              "<matplotlib.image.AxesImage at 0x7fdc93bc35d0>"
            ]
          },
          "metadata": {},
          "execution_count": 71
        },
        {
          "output_type": "display_data",
          "data": {
            "image/png": "[encoded data removed]",
            "text/plain": [
              "<Figure size 432x288 with 1 Axes>"
            ]
          },
          "metadata": {
            "needs_background": "light"
          }
        }
      ]
    },
    {
      "cell_type": "code",
      "metadata": {
        "colab": {
          "base_uri": "https://localhost:8080/"
        },
        "id": "Jf4PEyBGy8-X",
        "outputId": "27ae597c-54c4-40cd-e2d3-9dc8d0c922a0"
      },
      "source": [
        "x_train = np.array(x_train).reshape(-1,28,28,1)\n",
        "x_test = np.array(x_test).reshape(-1,28,28,1)\n",
        "print(\"Train set dimension:\", x_train.shape)\n",
        "print(\"Test set dimension:\", x_test.shape)"
      ],
      "execution_count": 72,
      "outputs": [
        {
          "output_type": "stream",
          "name": "stdout",
          "text": [
            "Train set dimension: (60000, 28, 28, 1)\n",
            "Test set dimension: (10000, 28, 28, 1)\n"
          ]
        }
      ]
    },
    {
      "cell_type": "code",
      "metadata": {
        "colab": {
          "base_uri": "https://localhost:8080/"
        },
        "id": "37Fwgg1FzpUu",
        "outputId": "66e26f5f-3938-4b3a-ae80-748e93003c80"
      },
      "source": [
        "model = Sequential()\n",
        "\n",
        "\n",
        "\n",
        "model.add(Conv2D(64,(3,3), input_shape = x_train.shape[1:]))\n",
        "model.add(Activation('relu'))\n",
        "model.add(MaxPooling2D(pool_size=(2,2)))\n",
        "\n",
        "\n",
        "model.add(Conv2D(64,(3,3)))\n",
        "model.add(Activation('relu'))\n",
        "model.add(MaxPooling2D(pool_size=(2,2)))\n",
        "\n",
        "model.add(Conv2D(64,(3,3)))\n",
        "model.add(Activation('relu'))\n",
        "model.add(MaxPooling2D(pool_size=(2,2)))\n",
        "\n",
        "model.add(Flatten())\n",
        "model.add(Dense(64))\n",
        "model.add(Activation('relu'))\n",
        "\n",
        "model.add(Dense(32))\n",
        "model.add(Activation('relu'))\n",
        "\n",
        "model.add(Dense(10))\n",
        "model.add(Activation('softmax'))\n",
        "\n",
        "model.summary()"
      ],
      "execution_count": 73,
      "outputs": [
        {
          "output_type": "stream",
          "name": "stdout",
          "text": [
            "Model: \"sequential_3\"\n",
            "_________________________________________________________________\n",
            "Layer (type)                 Output Shape              Param #   \n",
            "=================================================================\n",
            "conv2d_10 (Conv2D)           (None, 26, 26, 64)        640       \n",
            "_________________________________________________________________\n",
            "activation_14 (Activation)   (None, 26, 26, 64)        0         \n",
            "_________________________________________________________________\n",
            "max_pooling2d_9 (MaxPooling2 (None, 13, 13, 64)        0         \n",
            "_________________________________________________________________\n",
            "conv2d_11 (Conv2D)           (None, 11, 11, 64)        36928     \n",
            "_________________________________________________________________\n",
            "activation_15 (Activation)   (None, 11, 11, 64)        0         \n",
            "_________________________________________________________________\n",
            "max_pooling2d_10 (MaxPooling (None, 5, 5, 64)          0         \n",
            "_________________________________________________________________\n",
            "conv2d_12 (Conv2D)           (None, 3, 3, 64)          36928     \n",
            "_________________________________________________________________\n",
            "activation_16 (Activation)   (None, 3, 3, 64)          0         \n",
            "_________________________________________________________________\n",
            "max_pooling2d_11 (MaxPooling (None, 1, 1, 64)          0         \n",
            "_________________________________________________________________\n",
            "flatten_3 (Flatten)          (None, 64)                0         \n",
            "_________________________________________________________________\n",
            "dense_6 (Dense)              (None, 64)                4160      \n",
            "_________________________________________________________________\n",
            "activation_17 (Activation)   (None, 64)                0         \n",
            "_________________________________________________________________\n",
            "dense_7 (Dense)              (None, 32)                2080      \n",
            "_________________________________________________________________\n",
            "activation_18 (Activation)   (None, 32)                0         \n",
            "_________________________________________________________________\n",
            "dense_8 (Dense)              (None, 10)                330       \n",
            "_________________________________________________________________\n",
            "activation_19 (Activation)   (None, 10)                0         \n",
            "=================================================================\n",
            "Total params: 81,066\n",
            "Trainable params: 81,066\n",
            "Non-trainable params: 0\n",
            "_________________________________________________________________\n"
          ]
        }
      ]
    },
    {
      "cell_type": "code",
      "metadata": {
        "colab": {
          "base_uri": "https://localhost:8080/"
        },
        "id": "kOcCLyTh2Fgz",
        "outputId": "18b21b59-63c2-44ae-d060-0335c4b7b121"
      },
      "source": [
        "len(x_train)"
      ],
      "execution_count": 74,
      "outputs": [
        {
          "output_type": "execute_result",
          "data": {
            "text/plain": [
              "60000"
            ]
          },
          "metadata": {},
          "execution_count": 74
        }
      ]
    },
    {
      "cell_type": "code",
      "metadata": {
        "id": "EI1TWsfu2_z-"
      },
      "source": [
        "model.compile(loss=\"sparse_categorical_crossentropy\", optimizer=\"adam\", metrics=['accuracy'])"
      ],
      "execution_count": 75,
      "outputs": []
    },
    {
      "cell_type": "code",
      "metadata": {
        "colab": {
          "base_uri": "https://localhost:8080/"
        },
        "id": "p_8BMGTU2rOx",
        "outputId": "621a95a9-0c64-4d6a-dbe8-3cfdfaf11e43"
      },
      "source": [
        "model.fit(x_train, y_train, epochs=5 , validation_split=0.3, batch_size=1)"
      ],
      "execution_count": 76,
      "outputs": [
        {
          "output_type": "stream",
          "name": "stdout",
          "text": [
            "Epoch 1/5\n",
            "42000/42000 [==============================] - 173s 4ms/step - loss: 0.2423 - accuracy: 0.9274 - val_loss: 0.1223 - val_accuracy: 0.9644\n",
            "Epoch 2/5\n",
            "42000/42000 [==============================] - 176s 4ms/step - loss: 0.1174 - accuracy: 0.9673 - val_loss: 0.0848 - val_accuracy: 0.9768\n",
            "Epoch 3/5\n",
            "42000/42000 [==============================] - 177s 4ms/step - loss: 0.1057 - accuracy: 0.9731 - val_loss: 0.1159 - val_accuracy: 0.9690\n",
            "Epoch 4/5\n",
            "42000/42000 [==============================] - 179s 4ms/step - loss: 0.0964 - accuracy: 0.9750 - val_loss: 0.1030 - val_accuracy: 0.9744\n",
            "Epoch 5/5\n",
            "42000/42000 [==============================] - 180s 4ms/step - loss: 0.1037 - accuracy: 0.9756 - val_loss: 0.0972 - val_accuracy: 0.9736\n"
          ]
        },
        {
          "output_type": "execute_result",
          "data": {
            "text/plain": [
              "<keras.callbacks.History at 0x7fdc93b55090>"
            ]
          },
          "metadata": {},
          "execution_count": 76
        }
      ]
    },
    {
      "cell_type": "code",
      "metadata": {
        "colab": {
          "base_uri": "https://localhost:8080/"
        },
        "id": "-mREYCOz25jk",
        "outputId": "0f68db7e-19f0-4d06-825f-f1427595d783"
      },
      "source": [
        "test_loss, test_acc = model.evaluate(x_test, y_test)\n",
        "print(\"The accuracy on samples:\", test_acc)\n",
        "print(\"The accuracy on samples:\", test_loss)"
      ],
      "execution_count": 77,
      "outputs": [
        {
          "output_type": "stream",
          "name": "stdout",
          "text": [
            "313/313 [==============================] - 3s 10ms/step - loss: 0.0895 - accuracy: 0.9768\n",
            "The accuracy on samples: 0.9768000245094299\n",
            "The accuracy on samples: 0.08954580128192902\n"
          ]
        }
      ]
    },
    {
      "cell_type": "code",
      "metadata": {
        "colab": {
          "base_uri": "https://localhost:8080/",
          "height": 269
        },
        "id": "TkPW-lyl-Wan",
        "outputId": "7ca16c49-079e-42dc-d253-9cff9f9b80f7"
      },
      "source": [
        "import skimage\n",
        "import random\n",
        "from random import randint\n",
        "img = cv2.imread('1.jpg')\n",
        "plt.imshow(img)\n",
        "plt.show()\n",
        " "
      ],
      "execution_count": 87,
      "outputs": [
        {
          "output_type": "display_data",
          "data": {
            "image/png": "[encoded data removed]",
            "text/plain": [
              "<Figure size 432x288 with 1 Axes>"
            ]
          },
          "metadata": {
            "needs_background": "light"
          }
        }
      ]
    },
    {
      "cell_type": "code",
      "metadata": {
        "colab": {
          "base_uri": "https://localhost:8080/"
        },
        "id": "BRHN7fTdFotp",
        "outputId": "7699e23f-9001-42a7-cb7f-d14dcf16fe41"
      },
      "source": [
        "img.shape"
      ],
      "execution_count": 88,
      "outputs": [
        {
          "output_type": "execute_result",
          "data": {
            "text/plain": [
              "(159, 211, 3)"
            ]
          },
          "metadata": {},
          "execution_count": 88
        }
      ]
    },
    {
      "cell_type": "code",
      "metadata": {
        "id": "ZCWkNTA5I8fK"
      },
      "source": [
        "img = cv2.resize((cv2.cvtColor(img, cv2.COLOR_BGR2GRAY)),(28,28), interpolation=cv2.INTER_AREA)"
      ],
      "execution_count": 89,
      "outputs": []
    },
    {
      "cell_type": "code",
      "metadata": {
        "colab": {
          "base_uri": "https://localhost:8080/"
        },
        "id": "E5E8r4tDJc1C",
        "outputId": "b39cd08b-c75c-40b0-e708-a247b117d60a"
      },
      "source": [
        "img.shape"
      ],
      "execution_count": 90,
      "outputs": [
        {
          "output_type": "execute_result",
          "data": {
            "text/plain": [
              "(28, 28)"
            ]
          },
          "metadata": {},
          "execution_count": 90
        }
      ]
    },
    {
      "cell_type": "code",
      "metadata": {
        "id": "d_iyMlAyJw1h"
      },
      "source": [
        "img = tensorflow.keras.utils.normalize(img, axis=1)"
      ],
      "execution_count": 91,
      "outputs": []
    },
    {
      "cell_type": "code",
      "metadata": {
        "id": "z3uxAiVjJ6_7"
      },
      "source": [
        "img = np.array(img).reshape(-1,28,28,1)"
      ],
      "execution_count": 92,
      "outputs": []
    },
    {
      "cell_type": "code",
      "metadata": {
        "colab": {
          "base_uri": "https://localhost:8080/"
        },
        "id": "FXhvU4rmKEQH",
        "outputId": "de7c5a20-4585-4234-da6b-b31aeb79f4a3"
      },
      "source": [
        "img.shape"
      ],
      "execution_count": 93,
      "outputs": [
        {
          "output_type": "execute_result",
          "data": {
            "text/plain": [
              "(1, 28, 28, 1)"
            ]
          },
          "metadata": {},
          "execution_count": 93
        }
      ]
    },
    {
      "cell_type": "code",
      "metadata": {
        "colab": {
          "base_uri": "https://localhost:8080/"
        },
        "id": "E1VWf7lvKGSf",
        "outputId": "b1a0c84e-9461-4727-f6c0-5245c66df82b"
      },
      "source": [
        "print(\"Number predicated ==>\")\n",
        "print(np.argmax(model.predict(img)))"
      ],
      "execution_count": 94,
      "outputs": [
        {
          "output_type": "stream",
          "name": "stdout",
          "text": [
            "Number predicated ==>\n",
            "1\n"
          ]
        }
      ]
    }
  ]
}